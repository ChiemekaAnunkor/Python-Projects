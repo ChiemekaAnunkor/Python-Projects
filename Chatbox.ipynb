{
 "cells": [
  {
   "cell_type": "code",
   "execution_count": 1,
   "metadata": {},
   "outputs": [],
   "source": [
    "from nltk.chat.util import Chat, reflections"
   ]
  },
  {
   "cell_type": "code",
   "execution_count": 2,
   "metadata": {},
   "outputs": [],
   "source": [
    "pairs = [\n",
    "         ['my name is (.*)', ['hi %1']],\n",
    "         ['(hi|hello|hey|holla|hola|whats up| sup|what up|sup dude)', ['hey there', 'hi there', 'haayy']],\n",
    "         ['(.*) in (.*) is fun', ['%1 in %2 is indeed fun']],\n",
    "         ['(.*) location|place|city|area are you', ['Tokyo, Japan']],\n",
    "         ['(.*) location|place|city|am i from|live|in', ['I dont know you tell me']],\n",
    "         ['(.*) created|made you?', ['chiemeka did using python']],\n",
    "         ['how is the weather in (.*)', ['the weather in %1 is amazaing like always']],\n",
    "         ['(.*) help (.*)', ['i can help you']],\n",
    "         ['(.*) your name ?', ['my name is P.a.l']],\n",
    "         ['(.*) pal|p.a.l mean ?', ['Pal stands for Personal Assistant Language']],\n",
    "         [r\"quit\", [\"Bye take care\"]],\n",
    "]"
   ]
  },
  {
   "cell_type": "code",
   "execution_count": 3,
   "metadata": {},
   "outputs": [],
   "source": [
    "#how to make your own reflections\n",
    "my_dummy_reflections = {\n",
    "    'go': 'gone',\n",
    "    'hello': 'hey there'\n",
    "}"
   ]
  },
  {
   "cell_type": "code",
   "execution_count": 4,
   "metadata": {},
   "outputs": [
    {
     "name": "stdout",
     "output_type": "stream",
     "text": [
      "Hi, I'm S.i.r.i,You can chat with me.)\n",
      "Please type lowercase English language to start a conversation. \n",
      "Type quit to leave \n",
      ">hi\n",
      "haayy\n",
      ">quit\n",
      "Bye take care\n"
     ]
    }
   ],
   "source": [
    "print(\"Hi, I'm S.i.r.i,You can chat with me.)\\nPlease type lowercase English language to start a conversation. \\nType quit to leave \")\n",
    "chat = Chat(pairs,reflections)\n",
    "chat.converse()"
   ]
  },
  {
   "cell_type": "code",
   "execution_count": null,
   "metadata": {},
   "outputs": [],
   "source": []
  }
 ],
 "metadata": {
  "kernelspec": {
   "display_name": "Python 3",
   "language": "python",
   "name": "python3"
  },
  "language_info": {
   "codemirror_mode": {
    "name": "ipython",
    "version": 3
   },
   "file_extension": ".py",
   "mimetype": "text/x-python",
   "name": "python",
   "nbconvert_exporter": "python",
   "pygments_lexer": "ipython3",
   "version": "3.8.2"
  }
 },
 "nbformat": 4,
 "nbformat_minor": 4
}
